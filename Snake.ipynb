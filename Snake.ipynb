{
 "cells": [
  {
   "cell_type": "code",
   "execution_count": 1,
   "id": "2a2cc5dd",
   "metadata": {},
   "outputs": [],
   "source": [
    "import torch\n",
    "from torch import nn\n",
    "import numpy as np\n",
    "import matplotlib.pyplot as plt\n",
    "import json\n",
    "from ctypes import *\n",
    "%matplotlib inline"
   ]
  },
  {
   "cell_type": "code",
   "execution_count": 2,
   "id": "45218376",
   "metadata": {
    "scrolled": false
   },
   "outputs": [
    {
     "name": "stdout",
     "output_type": "stream",
     "text": [
      "<WinDLL 'kernel32', handle 7fffc2eb0000 at 0x20b2c6eea70>\n",
      "<CDLL 'msvcrt', handle 7fffc2280000 at 0x20b2e7c51e0>\n"
     ]
    }
   ],
   "source": [
    "print(windll.kernel32) \n",
    "print(cdll.msvcrt) \n",
    "libc = cdll.msvcrt"
   ]
  },
  {
   "cell_type": "code",
   "execution_count": 114,
   "id": "55cbb006",
   "metadata": {},
   "outputs": [
    {
     "name": "stdout",
     "output_type": "stream",
     "text": [
      "1.8949199999915436\n"
     ]
    }
   ],
   "source": [
    "from ttictoc import tic, toc\n",
    "tic()\n",
    "\n",
    "for i in range(1):\n",
    "    game_sim()\n",
    "\n",
    "print(toc())"
   ]
  },
  {
   "cell_type": "code",
   "execution_count": 115,
   "id": "d489dc62",
   "metadata": {
    "scrolled": true
   },
   "outputs": [
    {
     "data": {
      "text/plain": [
       "<matplotlib.image.AxesImage at 0x193a92f3d90>"
      ]
     },
     "execution_count": 115,
     "metadata": {},
     "output_type": "execute_result"
    },
    {
     "data": {
      "image/png": "[encoded data removed]",
      "text/plain": [
       "<Figure size 640x480 with 1 Axes>"
      ]
     },
     "metadata": {},
     "output_type": "display_data"
    }
   ],
   "source": [
    "board = np.ones((30, 30))\n",
    "apple = (14, 7)\n",
    "snake = [(0, 25, ), (0, 24, ), (1, 24, ), (1, 23, ), (2, 23, ), (2, 22, ), (3, 22, ), (3, 21, ), (4, 21, ), (4, 20, ), (4, 19, ), (4, 18, ), (4, 17, ), (4, 16, ), (4, 15, ), (4, 14, ), (5, 14, ), (6, 14, ), (7, 14, ), (7, 15, ), (8, 15, ), (9, 15, ), (9, 14, ), (9, 13, ), (10, 13, ), (10, 14, ), (11, 14, ), (11, 15, ), (12, 15, ), (13, 15, ), (14, 15, ), (14, 16, ), (15, 16, ), (16, 16, ), (16, 17, ), (17, 17, ), (18, 17, ), (19, 17, ), (19, 18, ), (19, 19, ), (20, 19, ), (21, 19, ), (22, 19, ), (23, 19, ), (24, 19, ), (25, 19, ), (26, 19, ), (27, 19, ), (27, 20, ), (27, 21, ), (27, 22, ), (27, 23, ), (27, 24, ), (27, 25, ), (27, 26, ), (28, 26, ), (28, 27, ), (27, 27, ), (27, 28, ), (27, 29, ), (26, 29, ), (26, 28, ), (26, 27, ), (25, 27, ), (24, 27, ), (24, 26, ), (23, 26, ), (23, 25, ), (22, 25, ), (22, 24, ), (21, 24, ), (20, 24, ), (19, 24, ), (18, 24, ), (17, 24, ), (17, 25, ), (17, 26, ), (18, 26, ), (18, 25, ), (19, 25, ), (19, 26, ), (20, 26, ), (20, 25, ), (21, 25, ), (21, 26, ), (22, 26, ), (22, 27, ), (21, 27, ), (20, 27, ), (19, 27, ), (18, 27, ), (17, 27, ), (16, 27, ), (15, 27, ), (14, 27, ), (13, 27, ), (12, 27, ), (11, 27, ), (10, 27, ), (9, 27, ), (8, 27, ), (8, 26, ), (7, 26, ), (6, 26, ), (5, 26, ), (4, 26, ), (3, 26, ), (3, 25, ), (4, 25, ), (5, 25, ), (5, 24, ), (5, 23, ), (5, 22, ), (5, 21, ), (5, 20, ), (5, 19, ), (5, 18, ), (5, 17, ), (5, 16, ), (5, 15, ), (6, 15, ), (6, 16, ), (7, 16, ), (8, 16, ), (9, 16, ), (10, 16, ), (11, 16, ), (12, 16, ), (13, 16, ), (13, 17, ), (14, 17, ), (15, 17, ), (15, 18, ), (16, 18, ), (17, 18, ), (18, 18, ), (18, 19, ), (17, 19, ), (17, 20, ), (18, 20, ), (18, 21, ), (18, 22, ), (17, 22, ), (17, 21, ), (16, 21, ), (16, 20, ), (16, 19, ), (15, 19, ), (14, 19, ), (14, 18, ), (13, 18, ), (12, 18, ), (12, 17, ), (11, 17, ), (10, 17, ), (9, 17, ), (8, 17, ), (7, 17, ), (6, 17, ), (6, 18, ), (7, 18, ), (8, 18, ), (9, 18, ), (10, 18, ), (11, 18, ), (11, 19, ), (10, 19, ), (9, 19, ), (8, 19, )]\n",
    "for i, node in enumerate(snake):\n",
    "    board[node] = 0+i/len(snake)\n",
    "board[apple] = 2\n",
    "plt.imshow(board)"
   ]
  },
  {
   "cell_type": "code",
   "execution_count": 104,
   "id": "fd171ad9",
   "metadata": {},
   "outputs": [
    {
     "name": "stdout",
     "output_type": "stream",
     "text": [
      "100\n"
     ]
    },
    {
     "data": {
      "text/plain": [
       "<matplotlib.image.AxesImage at 0x193a96fa710>"
      ]
     },
     "execution_count": 104,
     "metadata": {},
     "output_type": "execute_result"
    },
    {
     "data": {
      "image/png": "[encoded data removed]",
      "text/plain": [
       "<Figure size 640x480 with 1 Axes>"
      ]
     },
     "metadata": {},
     "output_type": "display_data"
    }
   ],
   "source": [
    "board = np.ones((30, 30))\n",
    "apple = (26, 6)\n",
    "snake = [(19, 3),(18, 3),(18, 4),(18, 4),(17, 4),(17, 5),(16, 5),(16, 6),(15, 6),(15, 7),(14, 7),(14, 8),(13, 8),(13, 9),(12, 9),(12, 10),(11, 10),(11, 11),(11, 12),(11, \n",
    "13),(11, 13),(12, 13),(12, 14),(13, 14),(13, 15),(14, 15),(14, 16),(15, 16),(15, 17),(16, 17),(16, 18),(17, 18),(18, 18),(19, 18),(19, 19),(19, 20),(19, 21),(20, \n",
    "21),(20, 22),(21, 22),(21, 23),(22, 23),(22, 24),(23, 24),(24, 24),(25, 24),(26, 24),(27, 24),(28, 24),(28, 25),(29, 25),(29, 26),(29, 27),(28, 27),(28, 27),(28, \n",
    "26),(27, 26),(27, 25),(26, 25),(25, 25),(24, 25),(23, 25),(22, 25),(21, 25),(20, 25),(19, 25),(18, 25),(18, 25),(18, 24),(17, 24),(17, 23),(16, 23),(15, 23),(14, \n",
    "23),(13, 23),(13, 22),(12, 22),(11, 22),(10, 22),(9, 22),(9, 21),(9, 20),(9, 19),(9, 18),(9, 17),(9, 16),(9, 15),(8, 15),(8, 14),(7, 14),(7, 13),(6, 13),(6, 12),(5, 12),(5, 11),(4, 11),(4, 10),(3, 10),(3, 9),(2, 9),]\n",
    "for i, node in enumerate(snake):\n",
    "    board[node] = 0+i/len(snake)\n",
    "board[apple] = 2\n",
    "plt.imshow(board)"
   ]
  },
  {
   "cell_type": "code",
   "execution_count": 36,
   "id": "73a92bc2",
   "metadata": {
    "scrolled": false
   },
   "outputs": [],
   "source": [
    "board_size = 30\n",
    "device = torch.device('cuda')\n",
    "batch_size = 64"
   ]
  },
  {
   "cell_type": "code",
   "execution_count": 3,
   "id": "a06f11d8",
   "metadata": {},
   "outputs": [],
   "source": [
    "class MLP(nn.Module):\n",
    "    def __init__(self):\n",
    "        super().__init__()\n",
    "        self.layers = nn.Sequential(\n",
    "            nn.Conv2d(1, 256, 3, stride=1),\n",
    "            nn.BatchNorm2d(256),\n",
    "            nn.ReLU(),\n",
    "            nn.Conv2d(256, 256, 3, stride=1),\n",
    "            nn.BatchNorm2d(256),\n",
    "            nn.ReLU(),\n",
    "            nn.Conv2d(256, 256, 3, stride=1),\n",
    "            nn.BatchNorm2d(256),\n",
    "            nn.ReLU(),\n",
    "            nn.Conv2d(256, 256, 3, stride=1),\n",
    "            nn.BatchNorm2d(256),\n",
    "            nn.ReLU(),\n",
    "            nn.Conv2d(256, 256, 3, stride=1),\n",
    "            nn.BatchNorm2d(256),\n",
    "            nn.ReLU(),\n",
    "            nn.Conv2d(256, 256, 3, stride=1),\n",
    "            nn.BatchNorm2d(256),\n",
    "            nn.ReLU(),\n",
    "            nn.Conv2d(256, 256, 3, stride=1),\n",
    "            nn.BatchNorm2d(256),\n",
    "            nn.ReLU(),\n",
    "            nn.Conv2d(256, 256, 3, stride=2),\n",
    "            nn.BatchNorm2d(256),\n",
    "            nn.ReLU(),\n",
    "            nn.Conv2d(256, 256, 3, stride=2),\n",
    "            nn.BatchNorm2d(256),\n",
    "            nn.ReLU(),\n",
    "            nn.Conv2d(256, 256, 3, stride=2),\n",
    "            nn.Flatten(),\n",
    "            nn.Linear(256, 64),\n",
    "            nn.BatchNorm1d(64),\n",
    "            nn.ReLU(),\n",
    "            nn.Linear(64, 1),\n",
    "        )\n",
    "    def forward(self, x):\n",
    "        return self.layers(x)"
   ]
  },
  {
   "cell_type": "code",
   "execution_count": 30,
   "id": "af7f3c34",
   "metadata": {},
   "outputs": [
    {
     "data": {
      "text/plain": [
       "MLP(\n",
       "  (layers): Sequential(\n",
       "    (0): Conv2d(1, 256, kernel_size=(3, 3), stride=(1, 1))\n",
       "    (1): BatchNorm2d(256, eps=1e-05, momentum=0.1, affine=True, track_running_stats=True)\n",
       "    (2): ReLU()\n",
       "    (3): Conv2d(256, 256, kernel_size=(3, 3), stride=(1, 1))\n",
       "    (4): BatchNorm2d(256, eps=1e-05, momentum=0.1, affine=True, track_running_stats=True)\n",
       "    (5): ReLU()\n",
       "    (6): Conv2d(256, 256, kernel_size=(3, 3), stride=(1, 1))\n",
       "    (7): BatchNorm2d(256, eps=1e-05, momentum=0.1, affine=True, track_running_stats=True)\n",
       "    (8): ReLU()\n",
       "    (9): Conv2d(256, 256, kernel_size=(3, 3), stride=(1, 1))\n",
       "    (10): BatchNorm2d(256, eps=1e-05, momentum=0.1, affine=True, track_running_stats=True)\n",
       "    (11): ReLU()\n",
       "    (12): Conv2d(256, 256, kernel_size=(3, 3), stride=(1, 1))\n",
       "    (13): BatchNorm2d(256, eps=1e-05, momentum=0.1, affine=True, track_running_stats=True)\n",
       "    (14): ReLU()\n",
       "    (15): Conv2d(256, 256, kernel_size=(3, 3), stride=(1, 1))\n",
       "    (16): BatchNorm2d(256, eps=1e-05, momentum=0.1, affine=True, track_running_stats=True)\n",
       "    (17): ReLU()\n",
       "    (18): Conv2d(256, 256, kernel_size=(3, 3), stride=(1, 1))\n",
       "    (19): BatchNorm2d(256, eps=1e-05, momentum=0.1, affine=True, track_running_stats=True)\n",
       "    (20): ReLU()\n",
       "    (21): Conv2d(256, 256, kernel_size=(3, 3), stride=(2, 2))\n",
       "    (22): BatchNorm2d(256, eps=1e-05, momentum=0.1, affine=True, track_running_stats=True)\n",
       "    (23): ReLU()\n",
       "    (24): Conv2d(256, 256, kernel_size=(3, 3), stride=(2, 2))\n",
       "    (25): BatchNorm2d(256, eps=1e-05, momentum=0.1, affine=True, track_running_stats=True)\n",
       "    (26): ReLU()\n",
       "    (27): Conv2d(256, 256, kernel_size=(3, 3), stride=(2, 2))\n",
       "    (28): Flatten(start_dim=1, end_dim=-1)\n",
       "    (29): Linear(in_features=256, out_features=64, bias=True)\n",
       "    (30): BatchNorm1d(64, eps=1e-05, momentum=0.1, affine=True, track_running_stats=True)\n",
       "    (31): ReLU()\n",
       "    (32): Linear(in_features=64, out_features=1, bias=True)\n",
       "  )\n",
       ")"
      ]
     },
     "execution_count": 30,
     "metadata": {},
     "output_type": "execute_result"
    }
   ],
   "source": [
    "# mlp = MLP()\n",
    "mlp = torch.load(\"model\")\n",
    "mlp.train()\n",
    "losses = []\n",
    "train = []\n",
    "running_loss = 0.1\n",
    "mlp.to(device)"
   ]
  },
  {
   "cell_type": "code",
   "execution_count": 31,
   "id": "942e74d1",
   "metadata": {},
   "outputs": [],
   "source": [
    "loss_function = nn.MSELoss()\n",
    "optimizer = torch.optim.Adam(mlp.parameters(), lr=1e-5)"
   ]
  },
  {
   "cell_type": "code",
   "execution_count": null,
   "id": "b7f64ddb",
   "metadata": {
    "scrolled": true
   },
   "outputs": [
    {
     "name": "stdout",
     "output_type": "stream",
     "text": [
      "0.09033745565451683\n",
      "0.08152232085727157\n",
      "0.0735334393983707\n",
      "0.06633767034871506\n",
      "0.059862206381863\n",
      "0.0540328145862682\n",
      "0.04875806307023585\n",
      "0.04404873215189937\n",
      "0.03980993030602213\n",
      "0.03599901397208774\n",
      "0.032549765654496736\n",
      "0.02942210910391872\n",
      "0.026610797432392672\n",
      "0.02410140358222336\n",
      "0.0218211039798362\n",
      "0.01974049891820427\n",
      "0.017936468749393166\n",
      "0.016339353010042735\n",
      "0.014824556613885667\n",
      "0.013479139446491725\n",
      "0.01223527523475116\n",
      "0.011156493737765928\n",
      "0.010202324638972086\n",
      "0.009312423062698008\n",
      "0.008531207346991565\n",
      "0.007763690459693625\n",
      "0.007128116921192546\n",
      "0.006599321508018201\n",
      "0.006084282055370234\n",
      "0.005629321712234368\n",
      "0.0052175782940905545\n",
      "0.004845080832879655\n",
      "0.004482514318387281\n",
      "0.004167235284390066\n",
      "0.003890968285285247\n",
      "0.0036762338554407474\n",
      "0.0034720678495730743\n",
      "0.00327162461519904\n",
      "0.0031184684611767566\n",
      "0.002972745010379109\n",
      "0.002833741528222549\n",
      "0.002718023529772092\n",
      "0.0025943766820981764\n",
      "0.0024899221963260764\n",
      "0.0023810834070957477\n",
      "0.0022539660628587105\n",
      "0.0021670825718075127\n",
      "0.0021000476312545025\n",
      "0.0020282352591520923\n",
      "0.001987932540007655\n",
      "0.0019611302347361066\n",
      "0.0019017266573499755\n",
      "0.0018569056920997307\n",
      "0.0017876046470813756\n",
      "0.0017060970183585113\n",
      "0.0016783706629387163\n",
      "0.001620378158311095\n",
      "0.0015840469806895072\n",
      "0.0015414622564916684\n",
      "0.0015635547069099433\n",
      "0.001587685104114135\n",
      "0.0015536728637909768\n",
      "0.0015510677650567182\n",
      "0.0015121285320070048\n",
      "0.001494502120904326\n",
      "0.001490876488335907\n",
      "0.0014564832518343446\n",
      "0.0014217218478257345\n",
      "0.0014148512986437874\n",
      "0.0013879963314953204\n",
      "0.00136564507048259\n",
      "0.0013525502812349484\n",
      "0.001334862702453913\n",
      "0.001311455361200674\n",
      "0.0013007482974484296\n",
      "0.001283582674358463\n",
      "0.0012538656586021267\n",
      "0.0012801889324435666\n",
      "0.0012315099099165865\n",
      "0.0012453401831473412\n",
      "0.0012370990643071089\n",
      "0.001254599616117801\n",
      "0.0013109492228180401\n",
      "0.0012863366945758672\n",
      "0.0012633959835775385\n",
      "0.0012538728975287994\n",
      "0.0012567703331364919\n",
      "0.001247221588032281\n",
      "0.0012235405245603643\n",
      "0.001223698953279691\n",
      "0.0012344291168351505\n",
      "0.001227910261934954\n",
      "0.0012413014950440448\n",
      "0.0012546130440014114\n",
      "0.0012500679222422102\n",
      "0.0012391075048195357\n",
      "0.0012262714534265133\n",
      "0.0012252985755067168\n",
      "0.0012124746988231925\n",
      "0.0011834371976567795\n",
      "0.0011780303448264441\n",
      "0.0011985575021832861\n",
      "0.001191443681443901\n",
      "0.001214276273302887\n",
      "0.001241925008113075\n",
      "0.0012192479368618625\n",
      "0.001195209348360881\n",
      "0.0011874237229989632\n",
      "0.0012545589243754744\n",
      "0.0012924754284293948\n",
      "0.0013211600776736289\n",
      "0.0013650048043928461\n",
      "0.0013366322252841517\n",
      "0.0012886937067233077\n",
      "0.0013027085439404147\n",
      "0.0013355458465403585\n",
      "0.0013578105158823374\n",
      "0.0013223957931370416\n",
      "0.001326474737260122\n",
      "0.0013276816820614447\n",
      "0.0013162950201791146\n",
      "0.00129811421670049\n",
      "0.001301705242712315\n"
     ]
    }
   ],
   "source": [
    "while True:\n",
    "    dataset, moves, length = game_sim()\n",
    "    \n",
    "    for sample in dataset:\n",
    "        rand = int(np.random.rand() * len(train))\n",
    "        sample.append(length/900)\n",
    "        train.append(sample)\n",
    "        if len(train) > 100000:\n",
    "            train.remove(train[rand])\n",
    "    \n",
    "    batch = torch.zeros(1, 1, 30, 30, device=device)\n",
    "    labels = torch.zeros(batch_size, 1, device=device)\n",
    "    \n",
    "    for i in range(batch_size):\n",
    "        rand = int(np.random.rand() * len(train))\n",
    "        sample = train[rand][:len(train[rand]) - 1]\n",
    "        labels[i] = train[rand][len(train[rand]) - 1:][0]\n",
    "        board = torch.zeros(board_size, board_size, device=device)\n",
    "        for number, tupl in enumerate(sample):\n",
    "            board[tupl] = ((number + 1)/len(sample))\n",
    "        batch = torch.cat([batch, board.view(1, 1, 30, 30)], dim=0)\n",
    "        \n",
    "    batch = torch.cat((batch[:0], batch[0+1:])) # remove first row\n",
    "    optimizer.zero_grad()\n",
    "    outputs = mlp(batch) #(length, moves)\n",
    "    loss = loss_function(outputs, labels)\n",
    "    running_loss = (running_loss * 0.9) + (loss.item() * 0.1)\n",
    "    print(running_loss)\n",
    "    losses.append(running_loss)\n",
    "    loss.backward()\n",
    "    optimizer.step()\n",
    "        \n"
   ]
  },
  {
   "cell_type": "code",
   "execution_count": 44,
   "id": "c96fe078",
   "metadata": {},
   "outputs": [
    {
     "data": {
      "text/plain": [
       "100000"
      ]
     },
     "execution_count": 44,
     "metadata": {},
     "output_type": "execute_result"
    }
   ],
   "source": [
    "len(train)"
   ]
  },
  {
   "cell_type": "code",
   "execution_count": 66,
   "id": "18987bf7",
   "metadata": {},
   "outputs": [],
   "source": [
    "# torch.save(mlp, \"model\")"
   ]
  },
  {
   "cell_type": "code",
   "execution_count": 26,
   "id": "0f860757",
   "metadata": {},
   "outputs": [],
   "source": [
    "xs = []\n",
    "ys = []"
   ]
  },
  {
   "cell_type": "code",
   "execution_count": 27,
   "id": "339b5c7d",
   "metadata": {},
   "outputs": [
    {
     "data": {
      "text/plain": [
       "<matplotlib.collections.PathCollection at 0x1c5ddc5d5a0>"
      ]
     },
     "execution_count": 27,
     "metadata": {},
     "output_type": "execute_result"
    },
    {
     "data": {
      "image/png": "[encoded data removed]",
      "text/plain": [
       "<Figure size 640x480 with 1 Axes>"
      ]
     },
     "metadata": {},
     "output_type": "display_data"
    }
   ],
   "source": [
    "for epoch in range(100):\n",
    "    snake = [(14, 14)]\n",
    "    guesses = []\n",
    "    mlp.eval()\n",
    "    while True:\n",
    "        while True:\n",
    "            apple = (int(np.random.rand(1) * board_size), int(np.random.rand(1) * board_size))\n",
    "            if apple not in snake:\n",
    "                break\n",
    "        pathington = BFS(snake[0], apple, snake, 1)\n",
    "        if len(pathington) == 0:\n",
    "#             print(len(snake))\n",
    "            break\n",
    "        lowest_index = 0\n",
    "        lowest_score = -10000\n",
    "        for i, path1 in enumerate(pathington):\n",
    "            board = torch.zeros(board_size, board_size, device=device)\n",
    "            for number, point in enumerate(path1):\n",
    "                board[point] = ((number + 1)/len(path1))\n",
    "            board = board.view(-1, 900)\n",
    "            score = mlp(board.view(1, 1, 30, 30))\n",
    "            if score > lowest_score:\n",
    "                lowest_score = score\n",
    "                lowest_index = i\n",
    "#         print(lowest_score.item() * 900)\n",
    "        guesses.append(lowest_score.item() * 900)\n",
    "        path = pathington[lowest_index]\n",
    "        path = path + snake\n",
    "        snake.append((0, 0))\n",
    "        for i, piece in enumerate(snake):\n",
    "            snake[i] = path[i]\n",
    "#     print(sum(guesses)/len(guesses))\n",
    "    xs.append(sum(guesses)/len(guesses))\n",
    "    ys.append(len(snake))\n",
    "    mlp.train()\n",
    "plt.scatter(xs, ys)"
   ]
  },
  {
   "cell_type": "code",
   "execution_count": 109,
   "id": "cf6e9de4",
   "metadata": {},
   "outputs": [
    {
     "ename": "RuntimeError",
     "evalue": "Expected all tensors to be on the same device, but found at least two devices, cpu and cuda:0! (when checking argument for argument weight in method wrapper___slow_conv2d_forward)",
     "output_type": "error",
     "traceback": [
      "\u001b[1;31m---------------------------------------------------------------------------\u001b[0m",
      "\u001b[1;31mRuntimeError\u001b[0m                              Traceback (most recent call last)",
      "Cell \u001b[1;32mIn [109], line 5\u001b[0m\n\u001b[0;32m      3\u001b[0m innington \u001b[38;5;241m=\u001b[39m board\u001b[38;5;241m.\u001b[39mview(\u001b[38;5;241m1\u001b[39m, \u001b[38;5;241m1\u001b[39m, \u001b[38;5;241m30\u001b[39m, \u001b[38;5;241m30\u001b[39m)\n\u001b[0;32m      4\u001b[0m mlp\u001b[38;5;241m.\u001b[39meval()\n\u001b[1;32m----> 5\u001b[0m logits \u001b[38;5;241m=\u001b[39m \u001b[43mmlp\u001b[49m\u001b[43m(\u001b[49m\u001b[43minnington\u001b[49m\u001b[43m)\u001b[49m\n\u001b[0;32m      6\u001b[0m length \u001b[38;5;241m=\u001b[39m logits[\u001b[38;5;241m0\u001b[39m][\u001b[38;5;241m0\u001b[39m]\u001b[38;5;241m.\u001b[39mitem() \u001b[38;5;241m*\u001b[39m \u001b[38;5;241m900\u001b[39m\n\u001b[0;32m      7\u001b[0m \u001b[38;5;28mprint\u001b[39m(length)\n",
      "File \u001b[1;32m~\\AppData\\Local\\Programs\\Python\\Python310\\lib\\site-packages\\torch\\nn\\modules\\module.py:1190\u001b[0m, in \u001b[0;36mModule._call_impl\u001b[1;34m(self, *input, **kwargs)\u001b[0m\n\u001b[0;32m   1186\u001b[0m \u001b[38;5;66;03m# If we don't have any hooks, we want to skip the rest of the logic in\u001b[39;00m\n\u001b[0;32m   1187\u001b[0m \u001b[38;5;66;03m# this function, and just call forward.\u001b[39;00m\n\u001b[0;32m   1188\u001b[0m \u001b[38;5;28;01mif\u001b[39;00m \u001b[38;5;129;01mnot\u001b[39;00m (\u001b[38;5;28mself\u001b[39m\u001b[38;5;241m.\u001b[39m_backward_hooks \u001b[38;5;129;01mor\u001b[39;00m \u001b[38;5;28mself\u001b[39m\u001b[38;5;241m.\u001b[39m_forward_hooks \u001b[38;5;129;01mor\u001b[39;00m \u001b[38;5;28mself\u001b[39m\u001b[38;5;241m.\u001b[39m_forward_pre_hooks \u001b[38;5;129;01mor\u001b[39;00m _global_backward_hooks\n\u001b[0;32m   1189\u001b[0m         \u001b[38;5;129;01mor\u001b[39;00m _global_forward_hooks \u001b[38;5;129;01mor\u001b[39;00m _global_forward_pre_hooks):\n\u001b[1;32m-> 1190\u001b[0m     \u001b[38;5;28;01mreturn\u001b[39;00m forward_call(\u001b[38;5;241m*\u001b[39m\u001b[38;5;28minput\u001b[39m, \u001b[38;5;241m*\u001b[39m\u001b[38;5;241m*\u001b[39mkwargs)\n\u001b[0;32m   1191\u001b[0m \u001b[38;5;66;03m# Do not call functions when jit is used\u001b[39;00m\n\u001b[0;32m   1192\u001b[0m full_backward_hooks, non_full_backward_hooks \u001b[38;5;241m=\u001b[39m [], []\n",
      "Cell \u001b[1;32mIn [74], line 40\u001b[0m, in \u001b[0;36mMLP.forward\u001b[1;34m(self, x)\u001b[0m\n\u001b[0;32m     39\u001b[0m \u001b[38;5;28;01mdef\u001b[39;00m \u001b[38;5;21mforward\u001b[39m(\u001b[38;5;28mself\u001b[39m, x):\n\u001b[1;32m---> 40\u001b[0m     \u001b[38;5;28;01mreturn\u001b[39;00m \u001b[38;5;28;43mself\u001b[39;49m\u001b[38;5;241;43m.\u001b[39;49m\u001b[43mlayers\u001b[49m\u001b[43m(\u001b[49m\u001b[43mx\u001b[49m\u001b[43m)\u001b[49m\n",
      "File \u001b[1;32m~\\AppData\\Local\\Programs\\Python\\Python310\\lib\\site-packages\\torch\\nn\\modules\\module.py:1190\u001b[0m, in \u001b[0;36mModule._call_impl\u001b[1;34m(self, *input, **kwargs)\u001b[0m\n\u001b[0;32m   1186\u001b[0m \u001b[38;5;66;03m# If we don't have any hooks, we want to skip the rest of the logic in\u001b[39;00m\n\u001b[0;32m   1187\u001b[0m \u001b[38;5;66;03m# this function, and just call forward.\u001b[39;00m\n\u001b[0;32m   1188\u001b[0m \u001b[38;5;28;01mif\u001b[39;00m \u001b[38;5;129;01mnot\u001b[39;00m (\u001b[38;5;28mself\u001b[39m\u001b[38;5;241m.\u001b[39m_backward_hooks \u001b[38;5;129;01mor\u001b[39;00m \u001b[38;5;28mself\u001b[39m\u001b[38;5;241m.\u001b[39m_forward_hooks \u001b[38;5;129;01mor\u001b[39;00m \u001b[38;5;28mself\u001b[39m\u001b[38;5;241m.\u001b[39m_forward_pre_hooks \u001b[38;5;129;01mor\u001b[39;00m _global_backward_hooks\n\u001b[0;32m   1189\u001b[0m         \u001b[38;5;129;01mor\u001b[39;00m _global_forward_hooks \u001b[38;5;129;01mor\u001b[39;00m _global_forward_pre_hooks):\n\u001b[1;32m-> 1190\u001b[0m     \u001b[38;5;28;01mreturn\u001b[39;00m forward_call(\u001b[38;5;241m*\u001b[39m\u001b[38;5;28minput\u001b[39m, \u001b[38;5;241m*\u001b[39m\u001b[38;5;241m*\u001b[39mkwargs)\n\u001b[0;32m   1191\u001b[0m \u001b[38;5;66;03m# Do not call functions when jit is used\u001b[39;00m\n\u001b[0;32m   1192\u001b[0m full_backward_hooks, non_full_backward_hooks \u001b[38;5;241m=\u001b[39m [], []\n",
      "File \u001b[1;32m~\\AppData\\Local\\Programs\\Python\\Python310\\lib\\site-packages\\torch\\nn\\modules\\container.py:204\u001b[0m, in \u001b[0;36mSequential.forward\u001b[1;34m(self, input)\u001b[0m\n\u001b[0;32m    202\u001b[0m \u001b[38;5;28;01mdef\u001b[39;00m \u001b[38;5;21mforward\u001b[39m(\u001b[38;5;28mself\u001b[39m, \u001b[38;5;28minput\u001b[39m):\n\u001b[0;32m    203\u001b[0m     \u001b[38;5;28;01mfor\u001b[39;00m module \u001b[38;5;129;01min\u001b[39;00m \u001b[38;5;28mself\u001b[39m:\n\u001b[1;32m--> 204\u001b[0m         \u001b[38;5;28minput\u001b[39m \u001b[38;5;241m=\u001b[39m \u001b[43mmodule\u001b[49m\u001b[43m(\u001b[49m\u001b[38;5;28;43minput\u001b[39;49m\u001b[43m)\u001b[49m\n\u001b[0;32m    205\u001b[0m     \u001b[38;5;28;01mreturn\u001b[39;00m \u001b[38;5;28minput\u001b[39m\n",
      "File \u001b[1;32m~\\AppData\\Local\\Programs\\Python\\Python310\\lib\\site-packages\\torch\\nn\\modules\\module.py:1190\u001b[0m, in \u001b[0;36mModule._call_impl\u001b[1;34m(self, *input, **kwargs)\u001b[0m\n\u001b[0;32m   1186\u001b[0m \u001b[38;5;66;03m# If we don't have any hooks, we want to skip the rest of the logic in\u001b[39;00m\n\u001b[0;32m   1187\u001b[0m \u001b[38;5;66;03m# this function, and just call forward.\u001b[39;00m\n\u001b[0;32m   1188\u001b[0m \u001b[38;5;28;01mif\u001b[39;00m \u001b[38;5;129;01mnot\u001b[39;00m (\u001b[38;5;28mself\u001b[39m\u001b[38;5;241m.\u001b[39m_backward_hooks \u001b[38;5;129;01mor\u001b[39;00m \u001b[38;5;28mself\u001b[39m\u001b[38;5;241m.\u001b[39m_forward_hooks \u001b[38;5;129;01mor\u001b[39;00m \u001b[38;5;28mself\u001b[39m\u001b[38;5;241m.\u001b[39m_forward_pre_hooks \u001b[38;5;129;01mor\u001b[39;00m _global_backward_hooks\n\u001b[0;32m   1189\u001b[0m         \u001b[38;5;129;01mor\u001b[39;00m _global_forward_hooks \u001b[38;5;129;01mor\u001b[39;00m _global_forward_pre_hooks):\n\u001b[1;32m-> 1190\u001b[0m     \u001b[38;5;28;01mreturn\u001b[39;00m forward_call(\u001b[38;5;241m*\u001b[39m\u001b[38;5;28minput\u001b[39m, \u001b[38;5;241m*\u001b[39m\u001b[38;5;241m*\u001b[39mkwargs)\n\u001b[0;32m   1191\u001b[0m \u001b[38;5;66;03m# Do not call functions when jit is used\u001b[39;00m\n\u001b[0;32m   1192\u001b[0m full_backward_hooks, non_full_backward_hooks \u001b[38;5;241m=\u001b[39m [], []\n",
      "File \u001b[1;32m~\\AppData\\Local\\Programs\\Python\\Python310\\lib\\site-packages\\torch\\nn\\modules\\conv.py:463\u001b[0m, in \u001b[0;36mConv2d.forward\u001b[1;34m(self, input)\u001b[0m\n\u001b[0;32m    462\u001b[0m \u001b[38;5;28;01mdef\u001b[39;00m \u001b[38;5;21mforward\u001b[39m(\u001b[38;5;28mself\u001b[39m, \u001b[38;5;28minput\u001b[39m: Tensor) \u001b[38;5;241m-\u001b[39m\u001b[38;5;241m>\u001b[39m Tensor:\n\u001b[1;32m--> 463\u001b[0m     \u001b[38;5;28;01mreturn\u001b[39;00m \u001b[38;5;28;43mself\u001b[39;49m\u001b[38;5;241;43m.\u001b[39;49m\u001b[43m_conv_forward\u001b[49m\u001b[43m(\u001b[49m\u001b[38;5;28;43minput\u001b[39;49m\u001b[43m,\u001b[49m\u001b[43m \u001b[49m\u001b[38;5;28;43mself\u001b[39;49m\u001b[38;5;241;43m.\u001b[39;49m\u001b[43mweight\u001b[49m\u001b[43m,\u001b[49m\u001b[43m \u001b[49m\u001b[38;5;28;43mself\u001b[39;49m\u001b[38;5;241;43m.\u001b[39;49m\u001b[43mbias\u001b[49m\u001b[43m)\u001b[49m\n",
      "File \u001b[1;32m~\\AppData\\Local\\Programs\\Python\\Python310\\lib\\site-packages\\torch\\nn\\modules\\conv.py:459\u001b[0m, in \u001b[0;36mConv2d._conv_forward\u001b[1;34m(self, input, weight, bias)\u001b[0m\n\u001b[0;32m    455\u001b[0m \u001b[38;5;28;01mif\u001b[39;00m \u001b[38;5;28mself\u001b[39m\u001b[38;5;241m.\u001b[39mpadding_mode \u001b[38;5;241m!=\u001b[39m \u001b[38;5;124m'\u001b[39m\u001b[38;5;124mzeros\u001b[39m\u001b[38;5;124m'\u001b[39m:\n\u001b[0;32m    456\u001b[0m     \u001b[38;5;28;01mreturn\u001b[39;00m F\u001b[38;5;241m.\u001b[39mconv2d(F\u001b[38;5;241m.\u001b[39mpad(\u001b[38;5;28minput\u001b[39m, \u001b[38;5;28mself\u001b[39m\u001b[38;5;241m.\u001b[39m_reversed_padding_repeated_twice, mode\u001b[38;5;241m=\u001b[39m\u001b[38;5;28mself\u001b[39m\u001b[38;5;241m.\u001b[39mpadding_mode),\n\u001b[0;32m    457\u001b[0m                     weight, bias, \u001b[38;5;28mself\u001b[39m\u001b[38;5;241m.\u001b[39mstride,\n\u001b[0;32m    458\u001b[0m                     _pair(\u001b[38;5;241m0\u001b[39m), \u001b[38;5;28mself\u001b[39m\u001b[38;5;241m.\u001b[39mdilation, \u001b[38;5;28mself\u001b[39m\u001b[38;5;241m.\u001b[39mgroups)\n\u001b[1;32m--> 459\u001b[0m \u001b[38;5;28;01mreturn\u001b[39;00m \u001b[43mF\u001b[49m\u001b[38;5;241;43m.\u001b[39;49m\u001b[43mconv2d\u001b[49m\u001b[43m(\u001b[49m\u001b[38;5;28;43minput\u001b[39;49m\u001b[43m,\u001b[49m\u001b[43m \u001b[49m\u001b[43mweight\u001b[49m\u001b[43m,\u001b[49m\u001b[43m \u001b[49m\u001b[43mbias\u001b[49m\u001b[43m,\u001b[49m\u001b[43m \u001b[49m\u001b[38;5;28;43mself\u001b[39;49m\u001b[38;5;241;43m.\u001b[39;49m\u001b[43mstride\u001b[49m\u001b[43m,\u001b[49m\n\u001b[0;32m    460\u001b[0m \u001b[43m                \u001b[49m\u001b[38;5;28;43mself\u001b[39;49m\u001b[38;5;241;43m.\u001b[39;49m\u001b[43mpadding\u001b[49m\u001b[43m,\u001b[49m\u001b[43m \u001b[49m\u001b[38;5;28;43mself\u001b[39;49m\u001b[38;5;241;43m.\u001b[39;49m\u001b[43mdilation\u001b[49m\u001b[43m,\u001b[49m\u001b[43m \u001b[49m\u001b[38;5;28;43mself\u001b[39;49m\u001b[38;5;241;43m.\u001b[39;49m\u001b[43mgroups\u001b[49m\u001b[43m)\u001b[49m\n",
      "\u001b[1;31mRuntimeError\u001b[0m: Expected all tensors to be on the same device, but found at least two devices, cpu and cuda:0! (when checking argument for argument weight in method wrapper___slow_conv2d_forward)"
     ]
    }
   ],
   "source": [
    "board = torch.zeros(board_size, board_size)\n",
    "board[(14, 14)] = 1\n",
    "innington = board.view(1, 1, 30, 30)\n",
    "mlp.eval()\n",
    "logits = mlp(innington)\n",
    "length = logits[0][0].item() * 900\n",
    "print(length)\n",
    "mlp.train()"
   ]
  },
  {
   "cell_type": "code",
   "execution_count": 346,
   "id": "e494a8ff",
   "metadata": {},
   "outputs": [
    {
     "data": {
      "text/plain": [
       "0.12666666666666668"
      ]
     },
     "execution_count": 346,
     "metadata": {},
     "output_type": "execute_result"
    }
   ],
   "source": [
    "# best loss:   0.00207378133200109\n",
    "# 0.003948253579437733\n",
    "# 0.0002190066152252257\n",
    "# 0.00013125113036949188\n",
    "# 0.0016721078427508473\n",
    "# 0.0006189789273776114\n",
    "# 4.9065616622101516e-05\n",
    "# 7.81641501816921e-05\n",
    "# 0.009134437888860703\n",
    "# 2.2606200218433514e-05\n",
    "\n",
    "# this is probably from just blindly predicting 100-130\n",
    "\n",
    "114/900"
   ]
  },
  {
   "cell_type": "code",
   "execution_count": 56,
   "id": "f29ff146",
   "metadata": {
    "scrolled": true
   },
   "outputs": [
    {
     "data": {
      "text/plain": [
       "[<matplotlib.lines.Line2D at 0x1f4bc4f7100>]"
      ]
     },
     "execution_count": 56,
     "metadata": {},
     "output_type": "execute_result"
    },
    {
     "data": {
      "image/png": "[encoded data removed]",
      "text/plain": [
       "<Figure size 640x480 with 1 Axes>"
      ]
     },
     "metadata": {},
     "output_type": "display_data"
    }
   ],
   "source": [
    "smooth = 1\n",
    "x = np.arange(len(losses)/smooth)\n",
    "y = torch.tensor(losses).view(smooth, -1).mean(0)\n",
    "plt.plot(x[1000:], y[1000:])\n"
   ]
  },
  {
   "cell_type": "code",
   "execution_count": 28,
   "id": "e4923638",
   "metadata": {},
   "outputs": [],
   "source": [
    "def game_sim():\n",
    "    snake = [(14, 14)]\n",
    "    dataset = []\n",
    "    moves = 0\n",
    "    while True:\n",
    "        dataset.append(snake.copy())\n",
    "        while True:\n",
    "            apple = (int(np.random.rand(1) * board_size), int(np.random.rand(1) * board_size))\n",
    "            if apple not in snake:\n",
    "                break\n",
    "        pathington = BFS(snake[0], apple, snake, 1)\n",
    "        if len(pathington) == 0:\n",
    "            return dataset, moves, len(snake)\n",
    "        path = pathington[0]\n",
    "        moves += len(path)\n",
    "        path = path + snake\n",
    "        snake.append((0, 0))\n",
    "        for i, piece in enumerate(snake):\n",
    "            snake[i] = path[i]"
   ]
  },
  {
   "cell_type": "code",
   "execution_count": 29,
   "id": "677e9daf",
   "metadata": {},
   "outputs": [],
   "source": [
    "def get_neighbors(p, snake, distance):\n",
    "    reduced = snake.copy()\n",
    "    for i in range(distance):\n",
    "        if len(reduced) > 0:\n",
    "            reduced.remove(reduced[len(reduced) - 1])\n",
    "    if p[0] + 1 < board_size and (p[0] + 1, p[1]) not in reduced:\n",
    "        top = (p[0] + 1, p[1])\n",
    "    else:\n",
    "        top = None\n",
    "    if p[0] - 1 > -1 and (p[0] - 1, p[1]) not in reduced:\n",
    "        bottom = (p[0] - 1, p[1])\n",
    "    else:\n",
    "        bottom = None\n",
    "    if p[1] + 1 < board_size and (p[0], p[1] + 1) not in reduced:\n",
    "        right = (p[0], p[1] + 1)\n",
    "    else:\n",
    "        right = None\n",
    "    if p[1] - 1 > -1 and (p[0], p[1] - 1) not in reduced:\n",
    "        left = (p[0], p[1] - 1)\n",
    "    else:\n",
    "        left = None\n",
    "    return top, right, bottom, left"
   ]
  },
  {
   "cell_type": "code",
   "execution_count": 30,
   "id": "6ed23fb5",
   "metadata": {},
   "outputs": [],
   "source": [
    "class Node:\n",
    "    def __init__(self, value, depth, path, h): # depth is inherently g score\n",
    "        self.value = value\n",
    "        self.path = path + [value]\n",
    "        self.depth = depth\n",
    "        self.h = h\n",
    "    def __eq__(self, other):\n",
    "        if self.value == other.value and self.depth == other.depth:\n",
    "            return True\n",
    "        else:\n",
    "            return False"
   ]
  },
  {
   "cell_type": "code",
   "execution_count": 31,
   "id": "1d26577b",
   "metadata": {},
   "outputs": [],
   "source": [
    "def BFS(start, end, snake, n):\n",
    "    paths = []\n",
    "    tree = [Node(start, 0, [], euclidian(start, end))]\n",
    "    while len(tree) != 0:\n",
    "        min_val = 1000000\n",
    "        min_node = None\n",
    "        for i in tree:\n",
    "            if i.depth + i.h < min_val:\n",
    "                min_val = i.depth + i.h\n",
    "                min_node = i\n",
    "        current = min_node\n",
    "        if current.value == end:\n",
    "            paths.append(list(reversed(current.path)))\n",
    "        if len(paths) == n:\n",
    "            return paths\n",
    "        neighbors = get_neighbors(current.value, snake, current.depth)\n",
    "        for neighbor in neighbors:\n",
    "            if neighbor is not None:\n",
    "                node = Node(neighbor, current.depth + 1, current.path, euclidian(neighbor, end))\n",
    "                if node not in tree and neighbor not in current.path:\n",
    "                    tree.append(node)\n",
    "        tree.remove(current)\n",
    "    return paths"
   ]
  },
  {
   "cell_type": "code",
   "execution_count": 32,
   "id": "dbee6ef6",
   "metadata": {},
   "outputs": [],
   "source": [
    "def euclidian(a, b):\n",
    "    x = abs(a[0] - b[0])\n",
    "    y = abs(a[1] - b[1])\n",
    "    return np.sqrt(x**2 + y**2)"
   ]
  },
  {
   "cell_type": "code",
   "execution_count": null,
   "id": "8d37a6f2",
   "metadata": {},
   "outputs": [],
   "source": []
  }
 ],
 "metadata": {
  "kernelspec": {
   "display_name": "Python 3 (ipykernel)",
   "language": "python",
   "name": "python3"
  },
  "language_info": {
   "codemirror_mode": {
    "name": "ipython",
    "version": 3
   },
   "file_extension": ".py",
   "mimetype": "text/x-python",
   "name": "python",
   "nbconvert_exporter": "python",
   "pygments_lexer": "ipython3",
   "version": "3.10.2"
  }
 },
 "nbformat": 4,
 "nbformat_minor": 5
}
